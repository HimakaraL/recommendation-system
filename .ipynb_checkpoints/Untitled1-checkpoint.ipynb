{
 "cells": [
  {
   "cell_type": "markdown",
   "id": "c5fbf81f-e0bf-467f-8e08-eedbbde1d21e",
   "metadata": {},
   "source": [
    "## Imports"
   ]
  },
  {
   "cell_type": "code",
   "execution_count": 1,
   "id": "7ac1c0e1-6130-4bf0-a5e5-8a42ec742d8c",
   "metadata": {},
   "outputs": [],
   "source": [
    "import pandas as pd\n",
    "import numpy as np\n",
    "import matplotlib.pyplot as plt\n",
    "import seaborn as sns\n",
    "\n",
    "from sklearn.metrics.pairwise import cosine_similarity\n",
    "from sklearn.feature_extraction.text import TfidfVectorizer\n",
    "\n",
    "import os\n",
    "from scipy.sparse import coo_matrix"
   ]
  },
  {
   "cell_type": "markdown",
   "id": "3400bae4-817a-40b3-baef-360fd96f675c",
   "metadata": {},
   "source": [
    "## Data loading & preprocessing"
   ]
  },
  {
   "cell_type": "code",
   "execution_count": 5,
   "id": "2dadb4f6-5edc-4031-8223-f99c6ed9edef",
   "metadata": {},
   "outputs": [],
   "source": [
    "train_data = pd.read_excel(\"anime_data.xlsx\")"
   ]
  },
  {
   "cell_type": "code",
   "execution_count": 7,
   "id": "f9b72424-ab32-4a10-98c0-26bd889d631d",
   "metadata": {},
   "outputs": [
    {
     "data": {
      "text/plain": [
       "Index(['user_id', 'anime_id', 'name', 'genre', 'type', 'episodes', 'rating',\n",
       "       'members', 'image_URL'],\n",
       "      dtype='object')"
      ]
     },
     "execution_count": 7,
     "metadata": {},
     "output_type": "execute_result"
    }
   ],
   "source": [
    "train_data.columns"
   ]
  },
  {
   "cell_type": "code",
   "execution_count": 9,
   "id": "0768f6a0-c1e7-4821-9ba0-04b3716e4ef1",
   "metadata": {},
   "outputs": [
    {
     "data": {
      "text/html": [
       "<div>\n",
       "<style scoped>\n",
       "    .dataframe tbody tr th:only-of-type {\n",
       "        vertical-align: middle;\n",
       "    }\n",
       "\n",
       "    .dataframe tbody tr th {\n",
       "        vertical-align: top;\n",
       "    }\n",
       "\n",
       "    .dataframe thead th {\n",
       "        text-align: right;\n",
       "    }\n",
       "</style>\n",
       "<table border=\"1\" class=\"dataframe\">\n",
       "  <thead>\n",
       "    <tr style=\"text-align: right;\">\n",
       "      <th></th>\n",
       "      <th>user_id</th>\n",
       "      <th>anime_id</th>\n",
       "      <th>name</th>\n",
       "      <th>genre</th>\n",
       "      <th>type</th>\n",
       "      <th>episodes</th>\n",
       "      <th>rating</th>\n",
       "      <th>members</th>\n",
       "      <th>image_URL</th>\n",
       "    </tr>\n",
       "  </thead>\n",
       "  <tbody>\n",
       "    <tr>\n",
       "      <th>0</th>\n",
       "      <td>User_72</td>\n",
       "      <td>24075</td>\n",
       "      <td>Persona 4 the Golden Animation</td>\n",
       "      <td>Adventure Mystery School Sci-Fi Super Power Su...</td>\n",
       "      <td>TV</td>\n",
       "      <td>12</td>\n",
       "      <td>6.75</td>\n",
       "      <td>39165</td>\n",
       "      <td>https://haruhichan.com/wp-content/uploads/Pers...</td>\n",
       "    </tr>\n",
       "    <tr>\n",
       "      <th>1</th>\n",
       "      <td>User_39</td>\n",
       "      <td>2670</td>\n",
       "      <td>Doraemon Movie 12: Nobita no Dorabian Nights</td>\n",
       "      <td>Adventure Comedy Fantasy Kids, Shounen</td>\n",
       "      <td>Movie</td>\n",
       "      <td>1</td>\n",
       "      <td>7.37</td>\n",
       "      <td>1833</td>\n",
       "      <td>https://cdn.statically.io/img/nimegami.id/f=au...</td>\n",
       "    </tr>\n",
       "    <tr>\n",
       "      <th>2</th>\n",
       "      <td>User_35</td>\n",
       "      <td>11887</td>\n",
       "      <td>Kokoro Connect</td>\n",
       "      <td>Comedy Drama Romance School Slice of Life Supe...</td>\n",
       "      <td>TV</td>\n",
       "      <td>13</td>\n",
       "      <td>8.01</td>\n",
       "      <td>283847</td>\n",
       "      <td>https://store.donanimhaber.com/36/59/7b/36597b...</td>\n",
       "    </tr>\n",
       "    <tr>\n",
       "      <th>3</th>\n",
       "      <td>User_8</td>\n",
       "      <td>3505</td>\n",
       "      <td>Yuusha Shirei Dagwon</td>\n",
       "      <td>Action Adventure Martial Arts Mecha School Sup...</td>\n",
       "      <td>TV</td>\n",
       "      <td>48</td>\n",
       "      <td>7.21</td>\n",
       "      <td>689</td>\n",
       "      <td>https://4.bp.blogspot.com/-zw28qKLRwbU/Wcj2QWE...</td>\n",
       "    </tr>\n",
       "    <tr>\n",
       "      <th>4</th>\n",
       "      <td>User_65</td>\n",
       "      <td>857</td>\n",
       "      <td>Air Gear</td>\n",
       "      <td>Action Comedy Ecchi Shounen Sports</td>\n",
       "      <td>TV</td>\n",
       "      <td>25</td>\n",
       "      <td>7.69</td>\n",
       "      <td>194611</td>\n",
       "      <td>https://4.bp.blogspot.com/-NkCyFgISc2o/UEoN8jM...</td>\n",
       "    </tr>\n",
       "  </tbody>\n",
       "</table>\n",
       "</div>"
      ],
      "text/plain": [
       "   user_id  anime_id                                          name  \\\n",
       "0  User_72     24075                Persona 4 the Golden Animation   \n",
       "1  User_39      2670  Doraemon Movie 12: Nobita no Dorabian Nights   \n",
       "2  User_35     11887                                Kokoro Connect   \n",
       "3   User_8      3505                          Yuusha Shirei Dagwon   \n",
       "4  User_65       857                                      Air Gear   \n",
       "\n",
       "                                               genre   type episodes  rating  \\\n",
       "0  Adventure Mystery School Sci-Fi Super Power Su...     TV       12    6.75   \n",
       "1             Adventure Comedy Fantasy Kids, Shounen  Movie        1    7.37   \n",
       "2  Comedy Drama Romance School Slice of Life Supe...     TV       13    8.01   \n",
       "3  Action Adventure Martial Arts Mecha School Sup...     TV       48    7.21   \n",
       "4                 Action Comedy Ecchi Shounen Sports     TV       25    7.69   \n",
       "\n",
       "   members                                          image_URL  \n",
       "0    39165  https://haruhichan.com/wp-content/uploads/Pers...  \n",
       "1     1833  https://cdn.statically.io/img/nimegami.id/f=au...  \n",
       "2   283847  https://store.donanimhaber.com/36/59/7b/36597b...  \n",
       "3      689  https://4.bp.blogspot.com/-zw28qKLRwbU/Wcj2QWE...  \n",
       "4   194611  https://4.bp.blogspot.com/-NkCyFgISc2o/UEoN8jM...  "
      ]
     },
     "execution_count": 9,
     "metadata": {},
     "output_type": "execute_result"
    }
   ],
   "source": [
    "train_data.head(5)"
   ]
  },
  {
   "cell_type": "markdown",
   "id": "039a1ccb-0c5f-4157-99e0-2ae122e7167d",
   "metadata": {},
   "source": [
    "## Basic Operations"
   ]
  },
  {
   "cell_type": "code",
   "execution_count": 14,
   "id": "b66abea7-52f2-4407-a1d4-8f5ed7ba6eae",
   "metadata": {},
   "outputs": [
    {
     "data": {
      "text/plain": [
       "(250, 9)"
      ]
     },
     "execution_count": 14,
     "metadata": {},
     "output_type": "execute_result"
    }
   ],
   "source": [
    "train_data.shape"
   ]
  },
  {
   "cell_type": "code",
   "execution_count": 16,
   "id": "5600af3d-da76-4b5d-b8d0-0b6786926b13",
   "metadata": {},
   "outputs": [
    {
     "data": {
      "text/plain": [
       "user_id      0\n",
       "anime_id     0\n",
       "name         0\n",
       "genre        1\n",
       "type         1\n",
       "episodes     0\n",
       "rating       7\n",
       "members      0\n",
       "image_URL    0\n",
       "dtype: int64"
      ]
     },
     "execution_count": 16,
     "metadata": {},
     "output_type": "execute_result"
    }
   ],
   "source": [
    "train_data.isnull().sum()"
   ]
  },
  {
   "cell_type": "code",
   "execution_count": 22,
   "id": "db6e4fa2-5326-402d-a341-36200f7384f2",
   "metadata": {},
   "outputs": [],
   "source": [
    "train_data.dropna(subset=['genre', 'type'], inplace=True)"
   ]
  },
  {
   "cell_type": "code",
   "execution_count": 24,
   "id": "60aaef84-fc85-4a4b-9c25-995be439ddef",
   "metadata": {},
   "outputs": [
    {
     "name": "stderr",
     "output_type": "stream",
     "text": [
      "C:\\Users\\himak\\AppData\\Local\\Temp\\ipykernel_7568\\876495981.py:1: FutureWarning: A value is trying to be set on a copy of a DataFrame or Series through chained assignment using an inplace method.\n",
      "The behavior will change in pandas 3.0. This inplace method will never work because the intermediate object on which we are setting values always behaves as a copy.\n",
      "\n",
      "For example, when doing 'df[col].method(value, inplace=True)', try using 'df.method({col: value}, inplace=True)' or df[col] = df[col].method(value) instead, to perform the operation inplace on the original object.\n",
      "\n",
      "\n",
      "  train_data['rating'].fillna(0, inplace=True)\n"
     ]
    }
   ],
   "source": [
    "train_data['rating'].fillna(0, inplace=True)"
   ]
  },
  {
   "cell_type": "code",
   "execution_count": 26,
   "id": "cc2e2c25-752c-4a53-8e0f-0dc6bff8d1f7",
   "metadata": {},
   "outputs": [
    {
     "data": {
      "text/plain": [
       "user_id      0\n",
       "anime_id     0\n",
       "name         0\n",
       "genre        0\n",
       "type         0\n",
       "episodes     0\n",
       "rating       0\n",
       "members      0\n",
       "image_URL    0\n",
       "dtype: int64"
      ]
     },
     "execution_count": 26,
     "metadata": {},
     "output_type": "execute_result"
    }
   ],
   "source": [
    "train_data.isnull().sum()"
   ]
  },
  {
   "cell_type": "markdown",
   "id": "04e5a66c-e18a-4e83-b752-b5a745fe478f",
   "metadata": {},
   "source": [
    "### Check for duplicates"
   ]
  },
  {
   "cell_type": "code",
   "execution_count": 30,
   "id": "b7f86fdd-2750-4807-9383-ca7384437353",
   "metadata": {},
   "outputs": [],
   "source": [
    "duplicated_rows=train_data.duplicated().sum()"
   ]
  },
  {
   "cell_type": "code",
   "execution_count": 34,
   "id": "756365f8-ec4f-4df1-a858-978b6a9c0859",
   "metadata": {},
   "outputs": [
    {
     "name": "stdout",
     "output_type": "stream",
     "text": [
      "3\n"
     ]
    }
   ],
   "source": [
    "print(duplicated_rows)"
   ]
  },
  {
   "cell_type": "code",
   "execution_count": 36,
   "id": "ca4be855-7871-4895-b69e-092a2fc1b4b8",
   "metadata": {},
   "outputs": [
    {
     "name": "stdout",
     "output_type": "stream",
     "text": [
      "     user_id  anime_id                                               name  \\\n",
      "30   User_74     33888                             Omoi Au Christmas 2011   \n",
      "66   User_19       314                                    Ace wo Nerae! 2   \n",
      "75   User_38      2490               One Piece: Mezase! Kaizoku Yakyuu Ou   \n",
      "90   User_38      2490               One Piece: Mezase! Kaizoku Yakyuu Ou   \n",
      "156  User_36     17991  Super Real Mahjong: Kasumi Miki Shouko no Haji...   \n",
      "191  User_36     17991  Super Real Mahjong: Kasumi Miki Shouko no Haji...   \n",
      "198  User_19       314                                    Ace wo Nerae! 2   \n",
      "204  User_74     33888                             Omoi Au Christmas 2011   \n",
      "\n",
      "                             genre     type episodes  rating  members  \\\n",
      "30                         Fantasy  Special        3    4.67       35   \n",
      "66             Drama Shoujo Sports      OVA       13    6.81      890   \n",
      "75   Comedy Fantasy Shounen Sports    Movie        1    7.20    20054   \n",
      "90   Comedy Fantasy Shounen Sports    Movie        1    7.20    20054   \n",
      "156              Comedy Ecchi Game      OVA        1    5.76      161   \n",
      "191              Comedy Ecchi Game      OVA        1    5.76      161   \n",
      "198            Drama Shoujo Sports      OVA       13    6.81      890   \n",
      "204                        Fantasy  Special        3    4.67       35   \n",
      "\n",
      "                                             image_URL  \n",
      "30   https://th.bing.com/th/id/OIP.SuCkSa5yWxHuUXiQ...  \n",
      "66   https://cdn.myanimelist.net/images/anime/1226/...  \n",
      "75   https://m.media-amazon.com/images/M/MV5BNjkwYj...  \n",
      "90   https://m.media-amazon.com/images/M/MV5BNjkwYj...  \n",
      "156  https://cdn.myanimelist.net/images/anime/13/47...  \n",
      "191  https://cdn.myanimelist.net/images/anime/13/47...  \n",
      "198  https://cdn.myanimelist.net/images/anime/6/717...  \n",
      "204  https://th.bing.com/th/id/OIP.SuCkSa5yWxHuUXiQ...  \n"
     ]
    }
   ],
   "source": [
    "duplicates = train_data[train_data.duplicated(subset=['user_id', 'anime_id', 'rating'], keep=False)]\n",
    "print(duplicates)"
   ]
  },
  {
   "cell_type": "code",
   "execution_count": 38,
   "id": "4c146890-74d1-458a-a6f8-0110ad212016",
   "metadata": {},
   "outputs": [
    {
     "name": "stdout",
     "output_type": "stream",
     "text": [
      "     user_id  anime_id                                               name  \\\n",
      "30   User_74     33888                             Omoi Au Christmas 2011   \n",
      "66   User_19       314                                    Ace wo Nerae! 2   \n",
      "75   User_38      2490               One Piece: Mezase! Kaizoku Yakyuu Ou   \n",
      "90   User_38      2490               One Piece: Mezase! Kaizoku Yakyuu Ou   \n",
      "156  User_36     17991  Super Real Mahjong: Kasumi Miki Shouko no Haji...   \n",
      "191  User_36     17991  Super Real Mahjong: Kasumi Miki Shouko no Haji...   \n",
      "198  User_19       314                                    Ace wo Nerae! 2   \n",
      "204  User_74     33888                             Omoi Au Christmas 2011   \n",
      "\n",
      "                             genre     type episodes  rating  members  \\\n",
      "30                         Fantasy  Special        3    4.67       35   \n",
      "66             Drama Shoujo Sports      OVA       13    6.81      890   \n",
      "75   Comedy Fantasy Shounen Sports    Movie        1    7.20    20054   \n",
      "90   Comedy Fantasy Shounen Sports    Movie        1    7.20    20054   \n",
      "156              Comedy Ecchi Game      OVA        1    5.76      161   \n",
      "191              Comedy Ecchi Game      OVA        1    5.76      161   \n",
      "198            Drama Shoujo Sports      OVA       13    6.81      890   \n",
      "204                        Fantasy  Special        3    4.67       35   \n",
      "\n",
      "                                             image_URL  \n",
      "30   https://th.bing.com/th/id/OIP.SuCkSa5yWxHuUXiQ...  \n",
      "66   https://cdn.myanimelist.net/images/anime/1226/...  \n",
      "75   https://m.media-amazon.com/images/M/MV5BNjkwYj...  \n",
      "90   https://m.media-amazon.com/images/M/MV5BNjkwYj...  \n",
      "156  https://cdn.myanimelist.net/images/anime/13/47...  \n",
      "191  https://cdn.myanimelist.net/images/anime/13/47...  \n",
      "198  https://cdn.myanimelist.net/images/anime/6/717...  \n",
      "204  https://th.bing.com/th/id/OIP.SuCkSa5yWxHuUXiQ...  \n"
     ]
    }
   ],
   "source": [
    "# Check for duplicates based on 'user_id', 'anime_id', and 'rating'\n",
    "duplicates = train_data[train_data.duplicated(subset=['user_id', 'anime_id', 'rating'], keep=False)]\n",
    "print(duplicates)"
   ]
  },
  {
   "cell_type": "code",
   "execution_count": 40,
   "id": "8c75c3e0-a314-44fe-95f1-22b0bd7c99a1",
   "metadata": {},
   "outputs": [],
   "source": [
    "# Remove all rows where 'user_id', 'anime_id', and 'rating' are duplicated\n",
    "train_data_cleaned = train_data.drop_duplicates(subset=['user_id', 'anime_id', 'rating'], keep=False)"
   ]
  },
  {
   "cell_type": "code",
   "execution_count": 42,
   "id": "91ab6e13-1be1-4a28-9520-e60d7647d763",
   "metadata": {},
   "outputs": [],
   "source": [
    "# Overwrite the original DataFrame with the cleaned version\n",
    "train_data = train_data_cleaned"
   ]
  },
  {
   "cell_type": "code",
   "execution_count": 44,
   "id": "77f4b770-1234-4b44-a501-822e592cee41",
   "metadata": {},
   "outputs": [
    {
     "data": {
      "text/plain": [
       "(241, 9)"
      ]
     },
     "execution_count": 44,
     "metadata": {},
     "output_type": "execute_result"
    }
   ],
   "source": [
    "train_data.shape"
   ]
  },
  {
   "cell_type": "code",
   "execution_count": 50,
   "id": "12b0eb42-8b86-4a9b-b529-b63b2fa222c4",
   "metadata": {},
   "outputs": [],
   "source": [
    "train_data = train_data.drop('members', axis=1)"
   ]
  },
  {
   "cell_type": "markdown",
   "id": "78c0ef5a-cc55-447e-ba85-fdf90b0dbaff",
   "metadata": {},
   "source": [
    "## Column Renaming"
   ]
  },
  {
   "cell_type": "code",
   "execution_count": 53,
   "id": "ace76519-b127-4826-8cb1-9f74366b2fe6",
   "metadata": {},
   "outputs": [
    {
     "data": {
      "text/plain": [
       "Index(['user_id', 'anime_id', 'name', 'genre', 'type', 'episodes', 'rating',\n",
       "       'image_URL'],\n",
       "      dtype='object')"
      ]
     },
     "execution_count": 53,
     "metadata": {},
     "output_type": "execute_result"
    }
   ],
   "source": [
    "train_data.columns"
   ]
  },
  {
   "cell_type": "code",
   "execution_count": 55,
   "id": "5911b026-1064-4b47-8964-e22b96a71042",
   "metadata": {},
   "outputs": [],
   "source": [
    "column_name_mapping = {\n",
    "     'user_id' : 'UserID',\n",
    "    'anime_id' : 'AnimeID',                \n",
    "    'name': 'Name',              \n",
    "    'genre' : 'Genre',               \n",
    "    'type' : 'Type',              \n",
    "    'episodes' : 'EpisodeCount',                     \n",
    "    'rating' : 'Rating',     \n",
    "    'image_URL' : 'ImageURL'\n",
    "}\n",
    "train_data.rename(columns=column_name_mapping, inplace=True)"
   ]
  },
  {
   "cell_type": "code",
   "execution_count": 57,
   "id": "261a41cf-fd3c-4b5c-a6dc-055054a9a3a2",
   "metadata": {},
   "outputs": [
    {
     "data": {
      "text/html": [
       "<div>\n",
       "<style scoped>\n",
       "    .dataframe tbody tr th:only-of-type {\n",
       "        vertical-align: middle;\n",
       "    }\n",
       "\n",
       "    .dataframe tbody tr th {\n",
       "        vertical-align: top;\n",
       "    }\n",
       "\n",
       "    .dataframe thead th {\n",
       "        text-align: right;\n",
       "    }\n",
       "</style>\n",
       "<table border=\"1\" class=\"dataframe\">\n",
       "  <thead>\n",
       "    <tr style=\"text-align: right;\">\n",
       "      <th></th>\n",
       "      <th>UserID</th>\n",
       "      <th>AnimeID</th>\n",
       "      <th>Name</th>\n",
       "      <th>Genre</th>\n",
       "      <th>Type</th>\n",
       "      <th>EpisodeCount</th>\n",
       "      <th>Rating</th>\n",
       "      <th>ImageURL</th>\n",
       "    </tr>\n",
       "  </thead>\n",
       "  <tbody>\n",
       "    <tr>\n",
       "      <th>0</th>\n",
       "      <td>User_72</td>\n",
       "      <td>24075</td>\n",
       "      <td>Persona 4 the Golden Animation</td>\n",
       "      <td>Adventure Mystery School Sci-Fi Super Power Su...</td>\n",
       "      <td>TV</td>\n",
       "      <td>12</td>\n",
       "      <td>6.75</td>\n",
       "      <td>https://haruhichan.com/wp-content/uploads/Pers...</td>\n",
       "    </tr>\n",
       "    <tr>\n",
       "      <th>1</th>\n",
       "      <td>User_39</td>\n",
       "      <td>2670</td>\n",
       "      <td>Doraemon Movie 12: Nobita no Dorabian Nights</td>\n",
       "      <td>Adventure Comedy Fantasy Kids, Shounen</td>\n",
       "      <td>Movie</td>\n",
       "      <td>1</td>\n",
       "      <td>7.37</td>\n",
       "      <td>https://cdn.statically.io/img/nimegami.id/f=au...</td>\n",
       "    </tr>\n",
       "    <tr>\n",
       "      <th>2</th>\n",
       "      <td>User_35</td>\n",
       "      <td>11887</td>\n",
       "      <td>Kokoro Connect</td>\n",
       "      <td>Comedy Drama Romance School Slice of Life Supe...</td>\n",
       "      <td>TV</td>\n",
       "      <td>13</td>\n",
       "      <td>8.01</td>\n",
       "      <td>https://store.donanimhaber.com/36/59/7b/36597b...</td>\n",
       "    </tr>\n",
       "    <tr>\n",
       "      <th>3</th>\n",
       "      <td>User_8</td>\n",
       "      <td>3505</td>\n",
       "      <td>Yuusha Shirei Dagwon</td>\n",
       "      <td>Action Adventure Martial Arts Mecha School Sup...</td>\n",
       "      <td>TV</td>\n",
       "      <td>48</td>\n",
       "      <td>7.21</td>\n",
       "      <td>https://4.bp.blogspot.com/-zw28qKLRwbU/Wcj2QWE...</td>\n",
       "    </tr>\n",
       "    <tr>\n",
       "      <th>4</th>\n",
       "      <td>User_65</td>\n",
       "      <td>857</td>\n",
       "      <td>Air Gear</td>\n",
       "      <td>Action Comedy Ecchi Shounen Sports</td>\n",
       "      <td>TV</td>\n",
       "      <td>25</td>\n",
       "      <td>7.69</td>\n",
       "      <td>https://4.bp.blogspot.com/-NkCyFgISc2o/UEoN8jM...</td>\n",
       "    </tr>\n",
       "    <tr>\n",
       "      <th>...</th>\n",
       "      <td>...</td>\n",
       "      <td>...</td>\n",
       "      <td>...</td>\n",
       "      <td>...</td>\n",
       "      <td>...</td>\n",
       "      <td>...</td>\n",
       "      <td>...</td>\n",
       "      <td>...</td>\n",
       "    </tr>\n",
       "    <tr>\n",
       "      <th>245</th>\n",
       "      <td>User_44</td>\n",
       "      <td>9973</td>\n",
       "      <td>Xi Yang Yang Yu Hui Tai Lang: Zhi Hu Hu Sheng Wei</td>\n",
       "      <td>Adventure Comedy Kids</td>\n",
       "      <td>Movie</td>\n",
       "      <td>1</td>\n",
       "      <td>5.26</td>\n",
       "      <td>https://upload.wikimedia.org/wikipedia/en/e/e8...</td>\n",
       "    </tr>\n",
       "    <tr>\n",
       "      <th>246</th>\n",
       "      <td>User_17</td>\n",
       "      <td>7597</td>\n",
       "      <td>Boku, Otaryman.</td>\n",
       "      <td>Comedy Seinen Slice of Life</td>\n",
       "      <td>OVA</td>\n",
       "      <td>1</td>\n",
       "      <td>6.25</td>\n",
       "      <td>https://upload.wikimedia.org/wikipedia/en/e/e6...</td>\n",
       "    </tr>\n",
       "    <tr>\n",
       "      <th>247</th>\n",
       "      <td>User_36</td>\n",
       "      <td>33988</td>\n",
       "      <td>Demi-chan wa Kataritai</td>\n",
       "      <td>Comedy Fantasy School Seinen</td>\n",
       "      <td>TV</td>\n",
       "      <td>Unknown</td>\n",
       "      <td>0.00</td>\n",
       "      <td>https://www.reddit.com/media?url=https%3A%2F%2...</td>\n",
       "    </tr>\n",
       "    <tr>\n",
       "      <th>248</th>\n",
       "      <td>User_21</td>\n",
       "      <td>2736</td>\n",
       "      <td>Mojakou</td>\n",
       "      <td>Comedy Fantasy Sci-Fi</td>\n",
       "      <td>TV</td>\n",
       "      <td>74</td>\n",
       "      <td>7.34</td>\n",
       "      <td>https://upload.wikimedia.org/wikipedia/en/f/fd...</td>\n",
       "    </tr>\n",
       "    <tr>\n",
       "      <th>249</th>\n",
       "      <td>User_5</td>\n",
       "      <td>1438</td>\n",
       "      <td>Lupin III: Lupin Ansatsu Shirei</td>\n",
       "      <td>Action Adventure Comedy Shounen</td>\n",
       "      <td>Special</td>\n",
       "      <td>1</td>\n",
       "      <td>7.08</td>\n",
       "      <td>https://upload.wikimedia.org/wikipedia/en/9/94...</td>\n",
       "    </tr>\n",
       "  </tbody>\n",
       "</table>\n",
       "<p>241 rows × 8 columns</p>\n",
       "</div>"
      ],
      "text/plain": [
       "      UserID  AnimeID                                               Name  \\\n",
       "0    User_72    24075                     Persona 4 the Golden Animation   \n",
       "1    User_39     2670       Doraemon Movie 12: Nobita no Dorabian Nights   \n",
       "2    User_35    11887                                     Kokoro Connect   \n",
       "3     User_8     3505                               Yuusha Shirei Dagwon   \n",
       "4    User_65      857                                           Air Gear   \n",
       "..       ...      ...                                                ...   \n",
       "245  User_44     9973  Xi Yang Yang Yu Hui Tai Lang: Zhi Hu Hu Sheng Wei   \n",
       "246  User_17     7597                                    Boku, Otaryman.   \n",
       "247  User_36    33988                             Demi-chan wa Kataritai   \n",
       "248  User_21     2736                                            Mojakou   \n",
       "249   User_5     1438                    Lupin III: Lupin Ansatsu Shirei   \n",
       "\n",
       "                                                 Genre     Type EpisodeCount  \\\n",
       "0    Adventure Mystery School Sci-Fi Super Power Su...       TV           12   \n",
       "1               Adventure Comedy Fantasy Kids, Shounen    Movie            1   \n",
       "2    Comedy Drama Romance School Slice of Life Supe...       TV           13   \n",
       "3    Action Adventure Martial Arts Mecha School Sup...       TV           48   \n",
       "4                   Action Comedy Ecchi Shounen Sports       TV           25   \n",
       "..                                                 ...      ...          ...   \n",
       "245                              Adventure Comedy Kids    Movie            1   \n",
       "246                        Comedy Seinen Slice of Life      OVA            1   \n",
       "247                       Comedy Fantasy School Seinen       TV      Unknown   \n",
       "248                              Comedy Fantasy Sci-Fi       TV           74   \n",
       "249                    Action Adventure Comedy Shounen  Special            1   \n",
       "\n",
       "     Rating                                           ImageURL  \n",
       "0      6.75  https://haruhichan.com/wp-content/uploads/Pers...  \n",
       "1      7.37  https://cdn.statically.io/img/nimegami.id/f=au...  \n",
       "2      8.01  https://store.donanimhaber.com/36/59/7b/36597b...  \n",
       "3      7.21  https://4.bp.blogspot.com/-zw28qKLRwbU/Wcj2QWE...  \n",
       "4      7.69  https://4.bp.blogspot.com/-NkCyFgISc2o/UEoN8jM...  \n",
       "..      ...                                                ...  \n",
       "245    5.26  https://upload.wikimedia.org/wikipedia/en/e/e8...  \n",
       "246    6.25  https://upload.wikimedia.org/wikipedia/en/e/e6...  \n",
       "247    0.00  https://www.reddit.com/media?url=https%3A%2F%2...  \n",
       "248    7.34  https://upload.wikimedia.org/wikipedia/en/f/fd...  \n",
       "249    7.08  https://upload.wikimedia.org/wikipedia/en/9/94...  \n",
       "\n",
       "[241 rows x 8 columns]"
      ]
     },
     "execution_count": 57,
     "metadata": {},
     "output_type": "execute_result"
    }
   ],
   "source": [
    "train_data"
   ]
  },
  {
   "cell_type": "markdown",
   "id": "70ee3204-a0bc-4fb4-af2c-7b0200aa858c",
   "metadata": {},
   "source": [
    "## Exploratory Data Analysis"
   ]
  },
  {
   "cell_type": "code",
   "execution_count": 60,
   "id": "3065d7bc-0488-4e3e-bc7f-fceb1ed26648",
   "metadata": {},
   "outputs": [
    {
     "name": "stdout",
     "output_type": "stream",
     "text": [
      "Number of unique Animes: 123\n",
      "Number of unique Users: 70\n"
     ]
    }
   ],
   "source": [
    "num_animes = train_data['AnimeID'].nunique()\n",
    "num_users = train_data['UserID'].nunique()\n",
    "print(f\"Number of unique Animes: {num_animes}\")\n",
    "print(f\"Number of unique Users: {num_users}\")"
   ]
  },
  {
   "cell_type": "code",
   "execution_count": 86,
   "id": "2bbb394c-d423-4d46-a149-3ec16cc9d003",
   "metadata": {},
   "outputs": [],
   "source": [
    "anime_ratings = train_data.groupby('Genre')['Rating'].mean().reset_index()\n",
    "anime_ratings = anime_ratings.sort_values(by='Rating', ascending=False)\n",
    "top_genres = anime_ratings.head(5)"
   ]
  },
  {
   "cell_type": "code",
   "execution_count": 88,
   "id": "f156621f-a408-4f22-a62b-52c40cecdf4f",
   "metadata": {},
   "outputs": [
    {
     "data": {
      "image/png": "[encoded data removed]",
      "text/plain": [
       "<Figure size 2000x1200 with 1 Axes>"
      ]
     },
     "metadata": {},
     "output_type": "display_data"
    }
   ],
   "source": [
    "#Plotting\n",
    "plt.figure(figsize=(20,12))\n",
    "sns.barplot(x='Genre', y='Rating', data=top_genres, hue='Rating', palette='viridis', width=0.5)\n",
    "plt.title('Top 10 Brands in the Store')\n",
    "plt.xlabel('Top Genres', fontsize=1)\n",
    "plt.ylabel('Rating')\n",
    "plt.show()"
   ]
  },
  {
   "cell_type": "markdown",
   "id": "ae55bc20-a540-4c7a-9a8c-ba5c1715bf9c",
   "metadata": {},
   "source": [
    "## Data Cleaning and Tags Creation"
   ]
  },
  {
   "cell_type": "code",
   "execution_count": 91,
   "id": "944225c0-5450-4ed2-a8e7-778157743108",
   "metadata": {},
   "outputs": [],
   "source": [
    "import nltk\n",
    "from nltk.corpus import stopwords\n",
    "from nltk.tokenize import word_tokenize"
   ]
  },
  {
   "cell_type": "code",
   "execution_count": 93,
   "id": "1723d52b-c553-4f24-865a-2fcbed2271ae",
   "metadata": {},
   "outputs": [
    {
     "name": "stderr",
     "output_type": "stream",
     "text": [
      "[nltk_data] Downloading package punkt to\n",
      "[nltk_data]     C:\\Users\\himak\\AppData\\Roaming\\nltk_data...\n",
      "[nltk_data]   Package punkt is already up-to-date!\n",
      "[nltk_data] Downloading package stopwords to\n",
      "[nltk_data]     C:\\Users\\himak\\AppData\\Roaming\\nltk_data...\n",
      "[nltk_data]   Package stopwords is already up-to-date!\n"
     ]
    },
    {
     "data": {
      "text/plain": [
       "True"
      ]
     },
     "execution_count": 93,
     "metadata": {},
     "output_type": "execute_result"
    }
   ],
   "source": [
    "nltk.download('punkt')\n",
    "nltk.download('stopwords')"
   ]
  },
  {
   "cell_type": "code",
   "execution_count": 95,
   "id": "bb889515-9e40-4767-ac49-f704089c85a2",
   "metadata": {},
   "outputs": [],
   "source": [
    "def clean_text(text):\n",
    "    stop_words = set(stopwords.words('english'))\n",
    "    words = word_tokenize(text.lower())\n",
    "    cleaned_words = [word for word in words if word.isalpha() and word not in stop_words]\n",
    "    return cleaned_words"
   ]
  },
  {
   "cell_type": "code",
   "execution_count": 97,
   "id": "017bb08d-73a9-4e83-94cd-3dc2ad5d8813",
   "metadata": {},
   "outputs": [],
   "source": [
    "def generate_tags(row):\n",
    "    #Form single string with diffrent columns for processing\n",
    "    combined_text = f\"{row['Name']} {row['Genre']} {row['Type']}\"\n",
    "    cleaned_words = clean_text(combined_text)\n",
    "\n",
    "    return ', '.join(set(cleaned_words)) #set removes duplicates\n",
    "\n",
    "train_data['Tags'] = train_data.apply(generate_tags, axis=1)\n",
    "\n",
    "for column in ['Name', 'Genre', 'Type']:\n",
    "    train_data[column] = train_data[column].apply(clean_text)\n",
    "    train_data[column] = train_data[column].apply(lambda tokens: ', '.join(tokens))\n",
    "    "
   ]
  },
  {
   "cell_type": "code",
   "execution_count": 99,
   "id": "d25b2459-f177-4d43-9199-ba350550340b",
   "metadata": {},
   "outputs": [
    {
     "data": {
      "text/html": [
       "<div>\n",
       "<style scoped>\n",
       "    .dataframe tbody tr th:only-of-type {\n",
       "        vertical-align: middle;\n",
       "    }\n",
       "\n",
       "    .dataframe tbody tr th {\n",
       "        vertical-align: top;\n",
       "    }\n",
       "\n",
       "    .dataframe thead th {\n",
       "        text-align: right;\n",
       "    }\n",
       "</style>\n",
       "<table border=\"1\" class=\"dataframe\">\n",
       "  <thead>\n",
       "    <tr style=\"text-align: right;\">\n",
       "      <th></th>\n",
       "      <th>UserID</th>\n",
       "      <th>AnimeID</th>\n",
       "      <th>Name</th>\n",
       "      <th>Genre</th>\n",
       "      <th>Type</th>\n",
       "      <th>EpisodeCount</th>\n",
       "      <th>Rating</th>\n",
       "      <th>ImageURL</th>\n",
       "      <th>Tags</th>\n",
       "    </tr>\n",
       "  </thead>\n",
       "  <tbody>\n",
       "    <tr>\n",
       "      <th>0</th>\n",
       "      <td>User_72</td>\n",
       "      <td>24075</td>\n",
       "      <td>persona, golden, animation</td>\n",
       "      <td>adventure, mystery, school, super, power, supe...</td>\n",
       "      <td>tv</td>\n",
       "      <td>12</td>\n",
       "      <td>6.75</td>\n",
       "      <td>https://haruhichan.com/wp-content/uploads/Pers...</td>\n",
       "      <td>animation, super, golden, tv, adventure, power...</td>\n",
       "    </tr>\n",
       "    <tr>\n",
       "      <th>1</th>\n",
       "      <td>User_39</td>\n",
       "      <td>2670</td>\n",
       "      <td>doraemon, movie, nobita, dorabian, nights</td>\n",
       "      <td>adventure, comedy, fantasy, kids, shounen</td>\n",
       "      <td>movie</td>\n",
       "      <td>1</td>\n",
       "      <td>7.37</td>\n",
       "      <td>https://cdn.statically.io/img/nimegami.id/f=au...</td>\n",
       "      <td>dorabian, movie, comedy, kids, adventure, shou...</td>\n",
       "    </tr>\n",
       "    <tr>\n",
       "      <th>2</th>\n",
       "      <td>User_35</td>\n",
       "      <td>11887</td>\n",
       "      <td>kokoro, connect</td>\n",
       "      <td>comedy, drama, romance, school, slice, life, s...</td>\n",
       "      <td>tv</td>\n",
       "      <td>13</td>\n",
       "      <td>8.01</td>\n",
       "      <td>https://store.donanimhaber.com/36/59/7b/36597b...</td>\n",
       "      <td>kokoro, comedy, slice, supernatural, connect, ...</td>\n",
       "    </tr>\n",
       "    <tr>\n",
       "      <th>3</th>\n",
       "      <td>User_8</td>\n",
       "      <td>3505</td>\n",
       "      <td>yuusha, shirei, dagwon</td>\n",
       "      <td>action, adventure, martial, arts, mecha, schoo...</td>\n",
       "      <td>tv</td>\n",
       "      <td>48</td>\n",
       "      <td>7.21</td>\n",
       "      <td>https://4.bp.blogspot.com/-zw28qKLRwbU/Wcj2QWE...</td>\n",
       "      <td>action, shirei, dagwon, arts, super, adventure...</td>\n",
       "    </tr>\n",
       "    <tr>\n",
       "      <th>4</th>\n",
       "      <td>User_65</td>\n",
       "      <td>857</td>\n",
       "      <td>air, gear</td>\n",
       "      <td>action, comedy, ecchi, shounen, sports</td>\n",
       "      <td>tv</td>\n",
       "      <td>25</td>\n",
       "      <td>7.69</td>\n",
       "      <td>https://4.bp.blogspot.com/-NkCyFgISc2o/UEoN8jM...</td>\n",
       "      <td>action, comedy, ecchi, air, shounen, gear, tv,...</td>\n",
       "    </tr>\n",
       "    <tr>\n",
       "      <th>...</th>\n",
       "      <td>...</td>\n",
       "      <td>...</td>\n",
       "      <td>...</td>\n",
       "      <td>...</td>\n",
       "      <td>...</td>\n",
       "      <td>...</td>\n",
       "      <td>...</td>\n",
       "      <td>...</td>\n",
       "      <td>...</td>\n",
       "    </tr>\n",
       "    <tr>\n",
       "      <th>245</th>\n",
       "      <td>User_44</td>\n",
       "      <td>9973</td>\n",
       "      <td>xi, yang, yang, yu, hui, tai, lang, zhi, hu, h...</td>\n",
       "      <td>adventure, comedy, kids</td>\n",
       "      <td>movie</td>\n",
       "      <td>1</td>\n",
       "      <td>5.26</td>\n",
       "      <td>https://upload.wikimedia.org/wikipedia/en/e/e8...</td>\n",
       "      <td>lang, movie, wei, yu, comedy, tai, kids, adven...</td>\n",
       "    </tr>\n",
       "    <tr>\n",
       "      <th>246</th>\n",
       "      <td>User_17</td>\n",
       "      <td>7597</td>\n",
       "      <td>boku, otaryman</td>\n",
       "      <td>comedy, seinen, slice, life</td>\n",
       "      <td>ova</td>\n",
       "      <td>1</td>\n",
       "      <td>6.25</td>\n",
       "      <td>https://upload.wikimedia.org/wikipedia/en/e/e6...</td>\n",
       "      <td>ova, comedy, seinen, otaryman, life, slice, boku</td>\n",
       "    </tr>\n",
       "    <tr>\n",
       "      <th>247</th>\n",
       "      <td>User_36</td>\n",
       "      <td>33988</td>\n",
       "      <td>wa, kataritai</td>\n",
       "      <td>comedy, fantasy, school, seinen</td>\n",
       "      <td>tv</td>\n",
       "      <td>Unknown</td>\n",
       "      <td>0.00</td>\n",
       "      <td>https://www.reddit.com/media?url=https%3A%2F%2...</td>\n",
       "      <td>comedy, wa, fantasy, kataritai, seinen, school...</td>\n",
       "    </tr>\n",
       "    <tr>\n",
       "      <th>248</th>\n",
       "      <td>User_21</td>\n",
       "      <td>2736</td>\n",
       "      <td>mojakou</td>\n",
       "      <td>comedy, fantasy</td>\n",
       "      <td>tv</td>\n",
       "      <td>74</td>\n",
       "      <td>7.34</td>\n",
       "      <td>https://upload.wikimedia.org/wikipedia/en/f/fd...</td>\n",
       "      <td>mojakou, fantasy, tv, comedy</td>\n",
       "    </tr>\n",
       "    <tr>\n",
       "      <th>249</th>\n",
       "      <td>User_5</td>\n",
       "      <td>1438</td>\n",
       "      <td>lupin, iii, lupin, ansatsu, shirei</td>\n",
       "      <td>action, adventure, comedy, shounen</td>\n",
       "      <td>special</td>\n",
       "      <td>1</td>\n",
       "      <td>7.08</td>\n",
       "      <td>https://upload.wikimedia.org/wikipedia/en/9/94...</td>\n",
       "      <td>action, shirei, comedy, lupin, ansatsu, advent...</td>\n",
       "    </tr>\n",
       "  </tbody>\n",
       "</table>\n",
       "<p>241 rows × 9 columns</p>\n",
       "</div>"
      ],
      "text/plain": [
       "      UserID  AnimeID                                               Name  \\\n",
       "0    User_72    24075                         persona, golden, animation   \n",
       "1    User_39     2670          doraemon, movie, nobita, dorabian, nights   \n",
       "2    User_35    11887                                    kokoro, connect   \n",
       "3     User_8     3505                             yuusha, shirei, dagwon   \n",
       "4    User_65      857                                          air, gear   \n",
       "..       ...      ...                                                ...   \n",
       "245  User_44     9973  xi, yang, yang, yu, hui, tai, lang, zhi, hu, h...   \n",
       "246  User_17     7597                                     boku, otaryman   \n",
       "247  User_36    33988                                      wa, kataritai   \n",
       "248  User_21     2736                                            mojakou   \n",
       "249   User_5     1438                 lupin, iii, lupin, ansatsu, shirei   \n",
       "\n",
       "                                                 Genre     Type EpisodeCount  \\\n",
       "0    adventure, mystery, school, super, power, supe...       tv           12   \n",
       "1            adventure, comedy, fantasy, kids, shounen    movie            1   \n",
       "2    comedy, drama, romance, school, slice, life, s...       tv           13   \n",
       "3    action, adventure, martial, arts, mecha, schoo...       tv           48   \n",
       "4               action, comedy, ecchi, shounen, sports       tv           25   \n",
       "..                                                 ...      ...          ...   \n",
       "245                            adventure, comedy, kids    movie            1   \n",
       "246                        comedy, seinen, slice, life      ova            1   \n",
       "247                    comedy, fantasy, school, seinen       tv      Unknown   \n",
       "248                                    comedy, fantasy       tv           74   \n",
       "249                 action, adventure, comedy, shounen  special            1   \n",
       "\n",
       "     Rating                                           ImageURL  \\\n",
       "0      6.75  https://haruhichan.com/wp-content/uploads/Pers...   \n",
       "1      7.37  https://cdn.statically.io/img/nimegami.id/f=au...   \n",
       "2      8.01  https://store.donanimhaber.com/36/59/7b/36597b...   \n",
       "3      7.21  https://4.bp.blogspot.com/-zw28qKLRwbU/Wcj2QWE...   \n",
       "4      7.69  https://4.bp.blogspot.com/-NkCyFgISc2o/UEoN8jM...   \n",
       "..      ...                                                ...   \n",
       "245    5.26  https://upload.wikimedia.org/wikipedia/en/e/e8...   \n",
       "246    6.25  https://upload.wikimedia.org/wikipedia/en/e/e6...   \n",
       "247    0.00  https://www.reddit.com/media?url=https%3A%2F%2...   \n",
       "248    7.34  https://upload.wikimedia.org/wikipedia/en/f/fd...   \n",
       "249    7.08  https://upload.wikimedia.org/wikipedia/en/9/94...   \n",
       "\n",
       "                                                  Tags  \n",
       "0    animation, super, golden, tv, adventure, power...  \n",
       "1    dorabian, movie, comedy, kids, adventure, shou...  \n",
       "2    kokoro, comedy, slice, supernatural, connect, ...  \n",
       "3    action, shirei, dagwon, arts, super, adventure...  \n",
       "4    action, comedy, ecchi, air, shounen, gear, tv,...  \n",
       "..                                                 ...  \n",
       "245  lang, movie, wei, yu, comedy, tai, kids, adven...  \n",
       "246   ova, comedy, seinen, otaryman, life, slice, boku  \n",
       "247  comedy, wa, fantasy, kataritai, seinen, school...  \n",
       "248                       mojakou, fantasy, tv, comedy  \n",
       "249  action, shirei, comedy, lupin, ansatsu, advent...  \n",
       "\n",
       "[241 rows x 9 columns]"
      ]
     },
     "execution_count": 99,
     "metadata": {},
     "output_type": "execute_result"
    }
   ],
   "source": [
    "train_data"
   ]
  },
  {
   "cell_type": "markdown",
   "id": "36aae305-368d-4730-87a4-012872128d0a",
   "metadata": {},
   "source": [
    "## Rating based recommendation"
   ]
  },
  {
   "cell_type": "code",
   "execution_count": 102,
   "id": "f8755c44-8e9f-4102-b08c-3f5c0975ef61",
   "metadata": {},
   "outputs": [],
   "source": [
    "##For first Time\n",
    "rating_ranked_data = train_data.groupby(['Name', 'EpisodeCount', 'Genre', 'ImageURL'])['Rating'].mean().reset_index()"
   ]
  },
  {
   "cell_type": "code",
   "execution_count": 104,
   "id": "24a650e7-dd23-472f-9561-496ea575b691",
   "metadata": {},
   "outputs": [],
   "source": [
    "top_rated_items = rating_ranked_data.sort_values(by='Rating', ascending=False)"
   ]
  },
  {
   "cell_type": "code",
   "execution_count": 106,
   "id": "2185e7fb-fe95-4ac4-b756-40c98e9caa9a",
   "metadata": {},
   "outputs": [],
   "source": [
    "rating_based_recommendation=top_rated_items.head(10)"
   ]
  },
  {
   "cell_type": "code",
   "execution_count": 108,
   "id": "f3d5aed3-79f9-4b00-8a96-fab10c0970ed",
   "metadata": {},
   "outputs": [
    {
     "name": "stderr",
     "output_type": "stream",
     "text": [
      "C:\\Users\\himak\\AppData\\Local\\Temp\\ipykernel_7568\\3334608908.py:1: SettingWithCopyWarning: \n",
      "A value is trying to be set on a copy of a slice from a DataFrame.\n",
      "Try using .loc[row_indexer,col_indexer] = value instead\n",
      "\n",
      "See the caveats in the documentation: https://pandas.pydata.org/pandas-docs/stable/user_guide/indexing.html#returning-a-view-versus-a-copy\n",
      "  rating_based_recommendation['Rating'] = rating_based_recommendation['Rating'].astype(int)\n",
      "C:\\Users\\himak\\AppData\\Local\\Temp\\ipykernel_7568\\3334608908.py:2: SettingWithCopyWarning: \n",
      "A value is trying to be set on a copy of a slice from a DataFrame.\n",
      "Try using .loc[row_indexer,col_indexer] = value instead\n",
      "\n",
      "See the caveats in the documentation: https://pandas.pydata.org/pandas-docs/stable/user_guide/indexing.html#returning-a-view-versus-a-copy\n",
      "  rating_based_recommendation['EpisodeCount'] = rating_based_recommendation['EpisodeCount'].astype(int)\n"
     ]
    }
   ],
   "source": [
    "rating_based_recommendation['Rating'] = rating_based_recommendation['Rating'].astype(int)\n",
    "rating_based_recommendation['EpisodeCount'] = rating_based_recommendation['EpisodeCount'].astype(int)"
   ]
  },
  {
   "cell_type": "code",
   "execution_count": 110,
   "id": "907d3b80-57fa-40a1-827e-a6c9b73c2ac4",
   "metadata": {},
   "outputs": [
    {
     "data": {
      "text/html": [
       "<div>\n",
       "<style scoped>\n",
       "    .dataframe tbody tr th:only-of-type {\n",
       "        vertical-align: middle;\n",
       "    }\n",
       "\n",
       "    .dataframe tbody tr th {\n",
       "        vertical-align: top;\n",
       "    }\n",
       "\n",
       "    .dataframe thead th {\n",
       "        text-align: right;\n",
       "    }\n",
       "</style>\n",
       "<table border=\"1\" class=\"dataframe\">\n",
       "  <thead>\n",
       "    <tr style=\"text-align: right;\">\n",
       "      <th></th>\n",
       "      <th>Name</th>\n",
       "      <th>EpisodeCount</th>\n",
       "      <th>Genre</th>\n",
       "      <th>ImageURL</th>\n",
       "      <th>Rating</th>\n",
       "    </tr>\n",
       "  </thead>\n",
       "  <tbody>\n",
       "    <tr>\n",
       "      <th>39</th>\n",
       "      <td>eve, jikan, movie</td>\n",
       "      <td>1</td>\n",
       "      <td>slice, life</td>\n",
       "      <td>https://encrypted-tbn0.gstatic.com/images?q=tb...</td>\n",
       "      <td>8</td>\n",
       "    </tr>\n",
       "    <tr>\n",
       "      <th>2</th>\n",
       "      <td></td>\n",
       "      <td>103</td>\n",
       "      <td>action, adventure, comedy, shounen</td>\n",
       "      <td>https://th.bing.com/th/id/R.963c647f3fb1ef8d8d...</td>\n",
       "      <td>8</td>\n",
       "    </tr>\n",
       "    <tr>\n",
       "      <th>114</th>\n",
       "      <td>sekaiichi, hatsukoi, movie, yokozawa, takafumi...</td>\n",
       "      <td>1</td>\n",
       "      <td>comedy, drama, romance, shounen, ai</td>\n",
       "      <td>https://th.bing.com/th/id/OIP.lYl440dfEFlTiOlz...</td>\n",
       "      <td>8</td>\n",
       "    </tr>\n",
       "    <tr>\n",
       "      <th>30</th>\n",
       "      <td>digimon, adventure, tri, kokuhaku</td>\n",
       "      <td>1</td>\n",
       "      <td>action, adventure, comedy, drama</td>\n",
       "      <td>https://th.bing.com/th/id/OIP.WVEWbc2HeBMhzo4z...</td>\n",
       "      <td>8</td>\n",
       "    </tr>\n",
       "    <tr>\n",
       "      <th>31</th>\n",
       "      <td>digimon, adventure, tri, kokuhaku</td>\n",
       "      <td>1</td>\n",
       "      <td>action, adventure, comedy, drama, romance</td>\n",
       "      <td>https://th.bing.com/th/id/OIP.WVEWbc2HeBMhzo4z...</td>\n",
       "      <td>8</td>\n",
       "    </tr>\n",
       "    <tr>\n",
       "      <th>88</th>\n",
       "      <td>macross, remember, love</td>\n",
       "      <td>1</td>\n",
       "      <td>action, mecha, military, music, romance, space</td>\n",
       "      <td>https://www.reddit.com/media?url=https%3A%2F%2...</td>\n",
       "      <td>8</td>\n",
       "    </tr>\n",
       "    <tr>\n",
       "      <th>87</th>\n",
       "      <td>macross, remember, love</td>\n",
       "      <td>1</td>\n",
       "      <td>action, mecha, military, music, romance, space</td>\n",
       "      <td>http://static2.minitokyo.net/view/28/12/670628...</td>\n",
       "      <td>8</td>\n",
       "    </tr>\n",
       "    <tr>\n",
       "      <th>81</th>\n",
       "      <td>kokoro, connect</td>\n",
       "      <td>13</td>\n",
       "      <td>comedy, drama, romance, school, slice, life, s...</td>\n",
       "      <td>https://store.donanimhaber.com/36/59/7b/36597b...</td>\n",
       "      <td>8</td>\n",
       "    </tr>\n",
       "    <tr>\n",
       "      <th>58</th>\n",
       "      <td>high, school, dxd, new</td>\n",
       "      <td>12</td>\n",
       "      <td>action, comedy, demons, ecchi, harem, romance,...</td>\n",
       "      <td>https://th.bing.com/th/id/OIP.4DmCSc7QvrEFyDIH...</td>\n",
       "      <td>7</td>\n",
       "    </tr>\n",
       "    <tr>\n",
       "      <th>3</th>\n",
       "      <td></td>\n",
       "      <td>13</td>\n",
       "      <td>comedy, school, slice, life</td>\n",
       "      <td>https://vignette3.wikia.nocookie.net/tokyoghou...</td>\n",
       "      <td>7</td>\n",
       "    </tr>\n",
       "  </tbody>\n",
       "</table>\n",
       "</div>"
      ],
      "text/plain": [
       "                                                  Name  EpisodeCount  \\\n",
       "39                                   eve, jikan, movie             1   \n",
       "2                                                                103   \n",
       "114  sekaiichi, hatsukoi, movie, yokozawa, takafumi...             1   \n",
       "30                   digimon, adventure, tri, kokuhaku             1   \n",
       "31                   digimon, adventure, tri, kokuhaku             1   \n",
       "88                             macross, remember, love             1   \n",
       "87                             macross, remember, love             1   \n",
       "81                                     kokoro, connect            13   \n",
       "58                              high, school, dxd, new            12   \n",
       "3                                                                 13   \n",
       "\n",
       "                                                 Genre  \\\n",
       "39                                         slice, life   \n",
       "2                   action, adventure, comedy, shounen   \n",
       "114                comedy, drama, romance, shounen, ai   \n",
       "30                    action, adventure, comedy, drama   \n",
       "31           action, adventure, comedy, drama, romance   \n",
       "88      action, mecha, military, music, romance, space   \n",
       "87      action, mecha, military, music, romance, space   \n",
       "81   comedy, drama, romance, school, slice, life, s...   \n",
       "58   action, comedy, demons, ecchi, harem, romance,...   \n",
       "3                          comedy, school, slice, life   \n",
       "\n",
       "                                              ImageURL  Rating  \n",
       "39   https://encrypted-tbn0.gstatic.com/images?q=tb...       8  \n",
       "2    https://th.bing.com/th/id/R.963c647f3fb1ef8d8d...       8  \n",
       "114  https://th.bing.com/th/id/OIP.lYl440dfEFlTiOlz...       8  \n",
       "30   https://th.bing.com/th/id/OIP.WVEWbc2HeBMhzo4z...       8  \n",
       "31   https://th.bing.com/th/id/OIP.WVEWbc2HeBMhzo4z...       8  \n",
       "88   https://www.reddit.com/media?url=https%3A%2F%2...       8  \n",
       "87   http://static2.minitokyo.net/view/28/12/670628...       8  \n",
       "81   https://store.donanimhaber.com/36/59/7b/36597b...       8  \n",
       "58   https://th.bing.com/th/id/OIP.4DmCSc7QvrEFyDIH...       7  \n",
       "3    https://vignette3.wikia.nocookie.net/tokyoghou...       7  "
      ]
     },
     "execution_count": 110,
     "metadata": {},
     "output_type": "execute_result"
    }
   ],
   "source": [
    "rating_based_recommendation"
   ]
  },
  {
   "cell_type": "markdown",
   "id": "e926231e-2ad1-452f-a488-78fe24145b0f",
   "metadata": {},
   "source": [
    "## Content Based recommendation"
   ]
  },
  {
   "cell_type": "code",
   "execution_count": 113,
   "id": "a7404a50-546b-4ff8-a6e4-c4134a5bdd99",
   "metadata": {},
   "outputs": [],
   "source": [
    "#Function\n",
    "\n",
    "def content_based_recommendations(train_data, item_name, top_n=10):\n",
    "    #Checking for the name to exist in the dataset\n",
    "    if item_name not in train_data['Name'].values:\n",
    "        print(f\"Item '{item_name}' not found in the dataset.\")\n",
    "        return pd.DataFrame()\n",
    "\n",
    "    #Create a TF_idf vectorizer for descriptions\n",
    "    tfidf_vectorizer = TfidfVectorizer(stop_words='english')\n",
    "\n",
    "    #Apply tf-idf\n",
    "    tfidf_matrix_content = tfidf_vectorizer.fit_transform(train_data['Tags'])\n",
    "\n",
    "    #Calculate cosine similarity\n",
    "    cosine_similarities_content = cosine_similarity(tfidf_matrix_content, tfidf_matrix_content)\n",
    "\n",
    "    #find item index\n",
    "    item_index = train_data[train_data['Name'] == item_name].index[0]\n",
    "\n",
    "    #cosine similarity scores\n",
    "    similar_items = list(enumerate(cosine_similarities_content[item_index]))\n",
    "\n",
    "    #Sort similar items by desc order\n",
    "    similar_items = sorted(similar_items, key=lambda x: x[1], reverse=True)\n",
    "\n",
    "    #Get the most similar items except item itself\n",
    "    top_similar_items = similar_items[1:top_n+1]\n",
    "\n",
    "    #Get the indices of top similar items\n",
    "    recommended_item_indices = [x[0] for x in top_similar_items]\n",
    "\n",
    "    #Get the details\n",
    "    recommended_item_details = train_data.iloc[recommended_item_indices][['Name', 'EpisodeCount', 'Genre']]\n",
    "\n",
    "    return recommended_item_details"
   ]
  },
  {
   "cell_type": "markdown",
   "id": "8852582a-b3df-461b-be22-227ea0ea1399",
   "metadata": {},
   "source": [
    "## Collabarative Filtering"
   ]
  },
  {
   "cell_type": "code",
   "execution_count": null,
   "id": "64018eeb-df3f-4dc8-984b-ffc939c873e4",
   "metadata": {},
   "outputs": [],
   "source": []
  }
 ],
 "metadata": {
  "kernelspec": {
   "display_name": "Python 3 (ipykernel)",
   "language": "python",
   "name": "python3"
  },
  "language_info": {
   "codemirror_mode": {
    "name": "ipython",
    "version": 3
   },
   "file_extension": ".py",
   "mimetype": "text/x-python",
   "name": "python",
   "nbconvert_exporter": "python",
   "pygments_lexer": "ipython3",
   "version": "3.12.4"
  }
 },
 "nbformat": 4,
 "nbformat_minor": 5
}
